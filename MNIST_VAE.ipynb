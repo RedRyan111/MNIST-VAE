{
 "cells": [
  {
   "cell_type": "code",
   "execution_count": null,
   "metadata": {},
   "outputs": [],
   "source": [
    "import torch\n",
    "import torchvision\n",
    "from  torchvision import transforms\n",
    "import torch.nn as nn\n",
    "import torch.optim as optim\n",
    "import torch.nn.functional as F"
   ]
  },
  {
   "cell_type": "code",
   "execution_count": null,
   "metadata": {},
   "outputs": [],
   "source": [
    "import matplotlib.pyplot as plt\n",
    "import matplotlib.image as mpimg\n",
    "import random\n",
    "import math\n",
    "import numpy as np"
   ]
  },
  {
   "cell_type": "markdown",
   "metadata": {},
   "source": [
    "## MNIST data prep"
   ]
  },
  {
   "cell_type": "code",
   "execution_count": null,
   "metadata": {},
   "outputs": [],
   "source": [
    "batch_size = 100\n",
    "num_classes = 10\n",
    "epochs = 500\n",
    "\n",
    "lat_inp = 100\n",
    "lat_hid = 200\n",
    "lat_out = 784\n",
    "\n",
    "def_img_out = 540\n",
    "def_img_hid = 50\n",
    "\n",
    "gen_lr = .0001\n",
    "dis_lr = .001\n",
    "\n",
    "batch_size_train = batch_size\n",
    "batch_size_test = batch_size"
   ]
  },
  {
   "cell_type": "code",
   "execution_count": null,
   "metadata": {},
   "outputs": [],
   "source": [
    "train_loader = torch.utils.data.DataLoader(\n",
    "  torchvision.datasets.MNIST('/files/', train=True, download=True,\n",
    "                             transform=torchvision.transforms.Compose([\n",
    "                               torchvision.transforms.ToTensor(),\n",
    "                               torchvision.transforms.Normalize(\n",
    "                                 (0.1307,), (0.3081,))\n",
    "                             ])),\n",
    "  batch_size=batch_size_train, shuffle=True)\n",
    "\n",
    "test_loader = torch.utils.data.DataLoader(\n",
    "  torchvision.datasets.MNIST('/files/', train=False, download=True,\n",
    "                             transform=torchvision.transforms.Compose([\n",
    "                               torchvision.transforms.ToTensor(),\n",
    "                               torchvision.transforms.Normalize(\n",
    "                                 (0.1307,), (0.3081,))\n",
    "                             ])),\n",
    "  batch_size=batch_size_test, shuffle=True)"
   ]
  },
  {
   "cell_type": "markdown",
   "metadata": {},
   "source": [
    "## Networks"
   ]
  },
  {
   "cell_type": "code",
   "execution_count": null,
   "metadata": {},
   "outputs": [],
   "source": [
    "class encoder(nn.Module):\n",
    "    def __init__(self,lat_inp,lat_hid,lat_out):\n",
    "        super(encoder, self).__init__()\n",
    "        \n",
    "        #add latent vector to combined state computation\n",
    "        self.fc1 = nn.Linear(lat_inp, lat_hid, bias=True)\n",
    "        self.fc2 = nn.Linear(lat_hid, lat_hid, bias=True)\n",
    "        self.fc3 = nn.Linear(lat_hid, lat_hid, bias=True)\n",
    "        self.fc4 = nn.Linear(lat_hid, lat_hid, bias=True)\n",
    "        self.fc5 = nn.Linear(lat_hid, lat_out, bias=True)\n",
    "        self.fc6 = nn.Linear(lat_hid, lat_out, bias=True)\n",
    "        \n",
    "        self.act = nn.LeakyReLU()\n",
    "        self.act1 = nn.Sigmoid()\n",
    "        self.act2 = nn.Tanh()\n",
    "        \n",
    "        self.batch_size = batch_size\n",
    "        \n",
    "    def forward(self,img):\n",
    "        \n",
    "        hid = self.act(self.fc1(img))\n",
    "        hid = self.act(self.fc2(hid))\n",
    "        hid = self.act(self.fc3(hid))\n",
    "        hid = self.act(self.fc4(hid))\n",
    "        \n",
    "        means = self.act2(self.fc5(hid))\n",
    "        var = self.act2(self.fc6(hid))\n",
    "\n",
    "        return means,var\n",
    "        #out = torch.normal(means,var)\n",
    "        #return out"
   ]
  },
  {
   "cell_type": "code",
   "execution_count": null,
   "metadata": {},
   "outputs": [],
   "source": [
    "class decoder(nn.Module):\n",
    "    def __init__(self,lat_inp,lat_hid,lat_out):\n",
    "        super(decoder, self).__init__()\n",
    "        \n",
    "        #add latent vector to combined state computation\n",
    "        self.fc1 = nn.Linear(lat_inp, lat_hid, bias=True)\n",
    "        self.fc2 = nn.Linear(lat_hid, lat_hid, bias=True)\n",
    "        self.fc3 = nn.Linear(lat_hid, lat_hid, bias=True)\n",
    "        self.fc4 = nn.Linear(lat_hid, lat_hid, bias=True)\n",
    "        self.fc5 = nn.Linear(lat_hid, lat_out, bias=True)\n",
    "        \n",
    "        self.act = nn.LeakyReLU()\n",
    "        self.act1 = nn.Sigmoid()\n",
    "        self.act2 = nn.Tanh()\n",
    "        \n",
    "        self.batch_size = batch_size\n",
    "        \n",
    "    def forward(self,latent):\n",
    "        \n",
    "        out = self.act(self.fc1(latent))\n",
    "        out = self.act(self.fc2(out))\n",
    "        out = self.act(self.fc3(out))\n",
    "        out = self.act(self.fc4(out))\n",
    "        out = self.act2(self.fc5(out))\n",
    "        \n",
    "        return out"
   ]
  },
  {
   "cell_type": "markdown",
   "metadata": {},
   "source": [
    "## Initializations"
   ]
  },
  {
   "cell_type": "code",
   "execution_count": null,
   "metadata": {},
   "outputs": [],
   "source": [
    "mse = nn.MSELoss()\n",
    "kldiv = nn.KLDivLoss(reduction='batchmean')\n",
    "ce = nn.CrossEntropyLoss()\n",
    "bce = nn.BCELoss()"
   ]
  },
  {
   "cell_type": "code",
   "execution_count": null,
   "metadata": {},
   "outputs": [],
   "source": [
    "enc = encoder(lat_out,lat_hid,lat_inp)\n",
    "dec = decoder(lat_inp,lat_hid,lat_out)"
   ]
  },
  {
   "cell_type": "code",
   "execution_count": null,
   "metadata": {},
   "outputs": [],
   "source": [
    "learning_rate = .0002\n",
    "enc = encoder(lat_out,lat_hid,lat_inp)\n",
    "dec = decoder(lat_inp,lat_hid,lat_out)\n",
    "enc_op = optim.Adam(enc.parameters(), lr=learning_rate)\n",
    "dec_op = optim.Adam(dec.parameters(), lr=learning_rate)"
   ]
  },
  {
   "cell_type": "markdown",
   "metadata": {},
   "source": [
    "## Training"
   ]
  },
  {
   "cell_type": "code",
   "execution_count": null,
   "metadata": {},
   "outputs": [],
   "source": [
    "for epoch in range(500):\n",
    "    enc.zero_grad()\n",
    "    dec.zero_grad()\n",
    "    for batch_idx, (real_imgs, target) in enumerate(train_loader):\n",
    "        #encoder loss\n",
    "        enc.zero_grad()\n",
    "        dec.zero_grad()\n",
    "        means,var = enc(real_imgs.view((batch_size,-1)))\n",
    "        epsilon = torch.normal(torch.zeros(var.shape),torch.ones(var.shape))\n",
    "        z = means + var*epsilon\n",
    "        pred_imgs = dec(z).view(batch_size,1,28,28)\n",
    "        vae_loss = mse(pred_imgs,real_imgs)\n",
    "        vae_loss.backward()\n",
    "        enc_op.step()\n",
    "        dec_op.step()\n",
    "    \n",
    "    print(\"epoch {}  and {}\".format(epoch,vae_loss))"
   ]
  },
  {
   "cell_type": "markdown",
   "metadata": {},
   "source": [
    "## Plotting"
   ]
  },
  {
   "cell_type": "code",
   "execution_count": null,
   "metadata": {},
   "outputs": [],
   "source": [
    "fig=plt.figure(figsize=(15, 15))\n",
    "columns = 4\n",
    "rows = 4\n",
    "for i in range(1, columns*rows +1):\n",
    "    for batch_idx, (real_imgs, target) in enumerate(train_loader):\n",
    "        means,var = enc(real_imgs.view((batch_size,-1)))\n",
    "        epsilon = torch.normal(torch.zeros(var.shape),torch.ones(var.shape))\n",
    "        z = means + var*epsilon\n",
    "        pred_imgs = dec(z).view(batch_size,1,28,28).detach().numpy()[i][0]\n",
    "        fig.add_subplot(rows, columns, i)\n",
    "        plt.imshow(pred_imgs,cmap='gray')\n",
    "        break\n",
    "plt.show()"
   ]
  },
  {
   "cell_type": "code",
   "execution_count": null,
   "metadata": {},
   "outputs": [],
   "source": []
  }
 ],
 "metadata": {
  "kernelspec": {
   "display_name": "Python 3",
   "language": "python",
   "name": "python3"
  },
  "language_info": {
   "codemirror_mode": {
    "name": "ipython",
    "version": 3
   },
   "file_extension": ".py",
   "mimetype": "text/x-python",
   "name": "python",
   "nbconvert_exporter": "python",
   "pygments_lexer": "ipython3",
   "version": "3.8.5"
  }
 },
 "nbformat": 4,
 "nbformat_minor": 4
}
